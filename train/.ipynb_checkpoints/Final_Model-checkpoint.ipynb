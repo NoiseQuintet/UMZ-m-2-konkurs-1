{
 "cells": [
  {
   "cell_type": "code",
   "execution_count": 10,
   "metadata": {
    "collapsed": false
   },
   "outputs": [],
   "source": [
    "from __future__ import print_function\n",
    "\n",
    "def LatexMatrix(matrix):\n",
    "    ltx = r'\\left[\\begin{array}'\n",
    "    m, n = matrix.shape\n",
    "    ltx += '{' + (\"r\" * n) + '}'\n",
    "    for i in range(m):\n",
    "        ltx += r\" & \".join([('%.4f' % j.item()) for j in matrix[i]]) + r\" \\\\ \"\n",
    "    ltx += r'\\end{array}\\right]'\n",
    "    return ltx\n",
    "\n",
    "def hMx(theta, X):\n",
    "    return X*theta\n",
    "\n",
    "def JMx(theta,X,y):\n",
    "    m = len(y)\n",
    "    J = np.sqrt(1.0/m*((X*theta-y).T*(X*theta-y)))\n",
    "    return J.item()\n",
    "\n",
    "def dJMx(theta,X,y):\n",
    "    return (X.T*(X*theta-y))/(len(y)*np.sqrt(len(y)*(X*theta-y).T*(X*theta-y)))\n",
    "\n",
    "def norm(X,y):\n",
    "    return (X.T*X)**-1*X.T*y\n",
    "\n",
    "def GDMx(fJ, fdJ, theta, X, y, alpha=0.1, eps=10**-3):\n",
    "    errorCurr = fJ(theta, X, y)\n",
    "    errors = [[errorCurr, theta]]\n",
    "    step=0\n",
    "    while True:\n",
    "        step+=1\n",
    "        theta = theta - alpha * fdJ(theta, X, y) # implementacja wzoru\n",
    "        errorCurr, errorPrev = fJ(theta, X, y), errorCurr\n",
    "        if abs(errorPrev - errorCurr) <= eps:\n",
    "            break\n",
    "        if step>10000:\n",
    "            break\n",
    "        errors.append([errorCurr, theta]) \n",
    "    return theta, errors\n",
    "\n",
    "def ASGD(fJ, fdJ, theta, X, y, alpha=0.001, maxEpochs=1.0, batchSize=100, adaGrad=False, logError=False):\n",
    "    m, n = X.shape\n",
    "    ghistory=np.matrix(np.zeros(n)).reshape(n,1)\n",
    "    start, end = 0, batchSize\n",
    "    maxSteps = (m * float(maxEpochs)) / batchSize\n",
    "    errorCurr = fJ(theta, X, y)\n",
    "    errors = [[errorCurr, theta]]\n",
    "    for i in range(int(maxSteps)):\n",
    "        XBatch, yBatch =  X[start:end,:], y[start:end,:]\n",
    "        g=fdJ(theta, XBatch, yBatch)\n",
    "        if adaGrad:\n",
    "            ghistory+=np.multiply(g,g)\n",
    "            g2=np.multiply(1.0/np.sqrt(ghistory + 10**-6),g)\n",
    "            theta = theta - alpha * g2\n",
    "        else:\n",
    "            theta = theta - alpha*g\n",
    "        if start + batchSize < m:\n",
    "            start += batchSize\n",
    "        else:\n",
    "            start = 0\n",
    "            IND= np.random.permutation(m)\n",
    "            X=X[IND]\n",
    "            y=y[IND]\n",
    "        end = min(start + batchSize, m)\n",
    "        errorCurr, errorPrev = fJ(theta, X, y), errorCurr\n",
    "        errors.append([errorCurr, theta]) \n",
    "    return theta, errors"
   ]
  },
  {
   "cell_type": "code",
   "execution_count": 11,
   "metadata": {
    "collapsed": false
   },
   "outputs": [],
   "source": [
    "import csv\n",
    "import matplotlib as mpl\n",
    "from mpl_toolkits.mplot3d import Axes3D\n",
    "import numpy as np\n",
    "import matplotlib.pyplot as plt\n",
    "\n",
    "%matplotlib inline\n",
    "\n",
    "from IPython.display import display, Math, Latex\n",
    "#jak beda chinskie znaczki to problem w open albo readerze\n",
    "reader = csv.reader(open(\"train.tsv\", 'r', encoding='utf-8'), delimiter='\\t')\n",
    "all_features=[]\n",
    "txtfeatures=[]\n",
    "for cena,rooms,metr,pietro,adres,opis in reader:\n",
    "    all_features.append([float(cena),int(rooms),float(metr),int(pietro)])\n",
    "    txtfeatures.append([adres,opis])\n",
    "\n",
    "reader = csv.reader(open(\"devin.tsv\", 'r', encoding='utf-8'), delimiter='\\t')\n",
    "test_features=[]\n",
    "test_txtfeatures=[]\n",
    "for rooms,metr,pietro,adres,opis in reader:\n",
    "    test_features.append([int(rooms),float(metr),int(pietro)])\n",
    "    test_txtfeatures.append([adres,opis])\n",
    "    \n",
    "reader = csv.reader(open(\"devexpected.tsv\", 'r', encoding='utf-8'), delimiter='\\t')\n",
    "test_expected=[]\n",
    "for cena in reader:\n",
    "    test_expected.append(float(cena[0]))\n",
    "\n",
    "\"\"\"reader = csv.reader(open(\"gratka2.txt\", 'r', encoding='utf-8'), delimiter=',')\n",
    "labels=next(reader)\n",
    "for _,cena,rooms,metr,pietro,adres,opis in reader:\n",
    "    all_features.append([float(cena)/1000.0,int(rooms),float(metr),int(pietro)])\n",
    "    txtfeatures.append([adres,opis])\"\"\"\n",
    "\n",
    "all_features=(np.array(all_features))\n",
    "txtfeatures=(np.array(txtfeatures))\n",
    "test_txtfeatures=np.array(test_txtfeatures)\n",
    "test_features=(np.array(test_features))\n"
   ]
  },
  {
   "cell_type": "code",
   "execution_count": 12,
   "metadata": {
    "collapsed": false
   },
   "outputs": [],
   "source": [
    "#ODSZUMIANIE\n",
    "ceny=all_features[:,0]\n",
    "lpokoi=all_features[:,1]\n",
    "metraz=all_features[:,2]\n",
    "pietro=all_features[:,3]\n",
    "\n",
    "#ŚREDNIE\n",
    "mcena=ceny.mean(axis=0)\n",
    "mrooms=lpokoi.mean(axis=0)\n",
    "mmeters=metraz.mean(axis=0)\n",
    "mfloor=pietro.mean(axis=0)\n",
    "\n",
    "#STD\n",
    "stdcena=ceny.std(axis=0)\n",
    "stdrooms=lpokoi.std(axis=0)\n",
    "stdmeters=metraz.std(axis=0)\n",
    "stdfloor=pietro.std(axis=0)\n",
    "\n",
    "tnum=3\n",
    "\n",
    "features_new=txtfeatures\n",
    "features_new=np.insert(features_new,0,ceny.astype(float),axis=1)\n",
    "features_new=np.insert(features_new,1,lpokoi,axis=1)\n",
    "features_new=np.insert(features_new,2,metraz,axis=1)\n",
    "features_new=np.insert(features_new,3,pietro,axis=1)\n",
    "\n",
    "features_new=features_new[features_new[:,0].astype(float)<mcena+tnum*stdcena]\n",
    "features_new=features_new[features_new[:,1].astype(float)<mrooms+tnum*stdrooms]\n",
    "features_new=features_new[features_new[:,2].astype(float)<mmeters+tnum*stdmeters]\n",
    "features_new=features_new[features_new[:,3].astype(float)<mfloor+tnum*stdfloor]\n",
    "\n",
    "\n",
    "features_new=features_new[features_new[:,0].astype(float)>mcena-tnum*stdcena]\n",
    "features_new=features_new[features_new[:,1].astype(float)>mrooms-tnum*stdrooms]\n",
    "features_new=features_new[features_new[:,2].astype(float)>mmeters-tnum*stdmeters]\n",
    "features_new=features_new[features_new[:,3].astype(float)>mfloor-tnum*stdfloor]"
   ]
  },
  {
   "cell_type": "code",
   "execution_count": 13,
   "metadata": {
    "collapsed": false
   },
   "outputs": [],
   "source": [
    "test_matrix=(np.matrix(test_features.astype(float)))\n",
    "test_expected=(np.matrix(test_expected))\n",
    "s1,s2=test_matrix.shape\n",
    "XTx = np.matrix(np.concatenate((np.ones((s1, 1)), test_matrix.reshape(s1,s2)), axis=1)).reshape(s1,s2+1)\n",
    "\n",
    "strening=np.matrix(features_new[:,:4].astype(float))\n",
    "s1,s2=strening.shape\n",
    "XMx = np.matrix(np.concatenate((np.ones((s1, 1)), strening[:,1:s2].reshape(s1,s2-1)), axis=1)).reshape(s1,s2)\n",
    "yMx = np.matrix(strening[:,0]).reshape(s1,1)"
   ]
  },
  {
   "cell_type": "code",
   "execution_count": 14,
   "metadata": {
    "collapsed": false
   },
   "outputs": [
    {
     "data": {
      "text/latex": [
       "$$\\Large \\theta = \\left[\\begin{array}{r}60.3960 \\\\ -2.9067 \\\\ 4.7679 \\\\ -1.3651 \\\\ \\end{array}\\right]$$"
      ],
      "text/plain": [
       "<IPython.core.display.Math object>"
      ]
     },
     "metadata": {},
     "output_type": "display_data"
    },
    {
     "data": {
      "text/latex": [
       "$$\\Large J(\\theta) = 83.5101$$"
      ],
      "text/plain": [
       "<IPython.core.display.Math object>"
      ]
     },
     "metadata": {},
     "output_type": "display_data"
    }
   ],
   "source": [
    "thetaNorm = norm(XMx, yMx)\n",
    "display(Math(r'\\Large \\theta = ' + LatexMatrix(thetaNorm)))\n",
    "display(Math(r'\\Large J(\\theta) = %.4f' % JMx(thetaNorm, XMx, yMx)))"
   ]
  },
  {
   "cell_type": "markdown",
   "metadata": {},
   "source": [
    "## Nowe parametry"
   ]
  },
  {
   "cell_type": "code",
   "execution_count": 15,
   "metadata": {
    "collapsed": false
   },
   "outputs": [],
   "source": [
    "#0-jedynki 1-lpokoi 2-metraz 3-pietro 4-metraz_lpokoi 5-lpokoi_pietro 6-sqrPOW\n",
    "\n",
    "#metraz_pietro=np.divide(features_1[:,2],features_1[:,3])\n",
    "\n",
    "TXMx= np.concatenate((XMx, np.divide(XMx[:,1],XMx[:,3])), axis=1)\n",
    "TXMx= np.concatenate((TXMx, np.divide(np.sqrt(XMx[:,2]),XMx[:,1])), axis=1)\n",
    "#TXMx= np.concatenate((TXMx, np.sqrt(XMx[:,2])), axis=1)\n",
    "TXTx= np.concatenate((XTx, np.divide(XTx[:,0],XTx[:,2])), axis=1)\n",
    "TXTx= np.concatenate((TXTx, np.divide(np.sqrt(XTx[:,1]),XTx[:,0])), axis=1)\n",
    "#TXTx= np.concatenate((TXTx, np.sqrt(XTx[:,1])), axis=1)\n",
    "#print (TXMx[:10])"
   ]
  },
  {
   "cell_type": "code",
   "execution_count": 16,
   "metadata": {
    "collapsed": false
   },
   "outputs": [
    {
     "data": {
      "text/latex": [
       "$$\\large\\textrm{Wynik z Adagrad:}\\quad \\theta = \\left[\\begin{array}{r}8.7894 \\\\ 6.0057 \\\\ 4.5766 \\\\ 1.4621 \\\\ 4.8270 \\\\ 7.3501 \\\\ \\end{array}\\right] \\quad J(\\theta) = 83.8770 \\quad \\textrm{po 1294 iteracjach}$$"
      ],
      "text/plain": [
       "<IPython.core.display.Math object>"
      ]
     },
     "metadata": {},
     "output_type": "display_data"
    }
   ],
   "source": [
    "thetaStartMx = np.zeros(TXMx.shape[1]).reshape(TXMx.shape[1],1)\n",
    "thetaBestMx1, errors1=ASGD(JMx, dJMx, thetaStartMx, TXMx, yMx, alpha=1, maxEpochs=15, batchSize=50, adaGrad=True, logError=False)\n",
    "display(Math(r'\\large\\textrm{Wynik z Adagrad:}\\quad \\theta = ' + \n",
    "            LatexMatrix(thetaBestMx1) + \n",
    "             (r' \\quad J(\\theta) = %.4f' % errors1[-1][0])  \n",
    "             + r' \\quad \\textrm{po %d iteracjach}' % len(errors1)))"
   ]
  },
  {
   "cell_type": "code",
   "execution_count": 17,
   "metadata": {
    "collapsed": false
   },
   "outputs": [
    {
     "data": {
      "text/latex": [
       "$$\\Large \\theta = \\left[\\begin{array}{r}101.9567 \\\\ -11.5617 \\\\ 4.9719 \\\\ -2.5733 \\\\ -3.5391 \\\\ -7.0773 \\\\ \\end{array}\\right]$$"
      ],
      "text/plain": [
       "<IPython.core.display.Math object>"
      ]
     },
     "metadata": {},
     "output_type": "display_data"
    },
    {
     "data": {
      "text/latex": [
       "$$\\Large J(\\theta) = 83.4222$$"
      ],
      "text/plain": [
       "<IPython.core.display.Math object>"
      ]
     },
     "metadata": {},
     "output_type": "display_data"
    }
   ],
   "source": [
    "thetaNorm = norm(TXMx[:,[0,1,2,3,4,5]], yMx)\n",
    "display(Math(r'\\Large \\theta = ' + LatexMatrix(thetaNorm)))\n",
    "display(Math(r'\\Large J(\\theta) = %.4f' % JMx(thetaNorm, TXMx[:,[0,1,2,3,4,5]], yMx)))\n",
    "\n"
   ]
  },
  {
   "cell_type": "markdown",
   "metadata": {},
   "source": [
    "# TESTY\n"
   ]
  },
  {
   "cell_type": "code",
   "execution_count": 18,
   "metadata": {
    "collapsed": false
   },
   "outputs": [],
   "source": [
    "import re\n",
    "def poldel(t):\n",
    "    t=re.sub(r'Ż|Ź|ź|ż',r'z',t)\n",
    "    t=re.sub(r'Ą|ą',r'a',t)\n",
    "    t=re.sub(r'Ć|ć',r'c',t)\n",
    "    t=re.sub(r'Ę|ę',r'e',t)\n",
    "    t=re.sub(r'Ł|ł',r'l',t)\n",
    "    t=re.sub(r'Ń|ń',r'n',t)\n",
    "    t=re.sub(r'Ó|ó',r'o',t)\n",
    "    t=re.sub(r'Ś|ś',r's',t)\n",
    "    t_nopl=t.split()\n",
    "    return t\n",
    "kat1 = {\n",
    "\n",
    "    'podolany': '2', \n",
    "    'umultowo': '3',\n",
    "   'radojewo': '6', \n",
    "    'morasko': '6',\n",
    "    'strzeszyn': '6',  \n",
    "    'anotoninek': '2',\n",
    "    'kiekrz': '2',\n",
    "    'krzyzowniki': '2',\n",
    "    'smochowice': '2',\n",
    "    'szczepankowo': '2',\n",
    "    'kwiatowe': '2',\n",
    "    'fabianowo': '2',\n",
    "    'kotowo': '2',\n",
    "    'swierczewo': '2',\n",
    "    'gluszyna': '2',\n",
    "    'krzesiny': '2',\n",
    "    'pokrzywno': '2',\n",
    "    'garaszewo': '2',\n",
    "    'splawie': '2',\n",
    "    'krzesinki': '2',\n",
    "    'zieliniec': '2',\n",
    "    'kobylepole': '2',\n",
    "}\n",
    "\n",
    "kat2 = {\n",
    "     'marysienki': '8',\n",
    "        'piatkowo': '7',\n",
    "    'sobieskiego': '8',\n",
    "     'ostrow tumski': '10',  \n",
    "        'naramowice': '1',\n",
    "        'rataje': '6',  \n",
    "    'grunwald': '6',\n",
    "     'winiary': '6',\n",
    "    'chartowo': '2',\n",
    "    'warszawskie': '2',\n",
    "    'pomet': '2',\n",
    "    'maltanskie': '2',\n",
    "    'zawady': '2',\n",
    "    'srodka': '2',\n",
    "    'glowna': '2',\n",
    "    'winogrady': '7',\n",
    "     'stare miasto': '9',\n",
    "    'lazarz': '6',\n",
    "    'staroleka': '0',\n",
    "    'minikowo': '1',\n",
    "     'debiec': '2',\n",
    "     'wola': '2',\n",
    "    'anotoninek': '2',\n",
    "     'chartowo': '3',\n",
    "     'gorczyn': '3',\n",
    "    'ogrody': '3',\n",
    "       'wilda': '4',\n",
    "     'lawica': '4',\n",
    "    'solacz': '2',\n",
    "     'zegrze': '4',\n",
    "     'swierczewo': '6',\n",
    "    'nowe miasto': '6',\n",
    "\n",
    "}\n",
    "\n",
    "#NOWE DANE DLA ZESTAWU TRENUJĄCEGO\n",
    "dzielkat1=[]\n",
    "dzielkat2=[]\n",
    "kawalerka1=[]\n",
    "#INDEKS 5 7\n",
    "for row in features_new:\n",
    "    n_row5=poldel(row[4].lower())\n",
    "    n_row7=poldel(row[5].lower())\n",
    "    for keys in kat1:\n",
    "        match=0\n",
    "        if (re.search(keys,n_row7) or re.search(keys,n_row5)):\n",
    "            dzielkat1.append(1)\n",
    "            match=1\n",
    "            break;\n",
    "    if (match==0):\n",
    "            dzielkat1.append(0)\n",
    "    if (re.search(\"kawaler\",n_row7)):\n",
    "        kawalerka1.append(-1)\n",
    "    else:\n",
    "        kawalerka1.append(2)\n",
    "            \n",
    "    match=0\n",
    "   \n",
    "    for keys in kat2:\n",
    "        if (re.search(keys,n_row7) or re.search(keys,n_row5)):\n",
    "            dzielkat2.append(1)\n",
    "            match=1\n",
    "            break;\n",
    "    if (match==0):\n",
    "            dzielkat2.append(0)\n",
    "    match=0\n",
    "      \n",
    "dzielkat1=(np.array(dzielkat1))\n",
    "dzielkat2=(np.array(dzielkat2))\n",
    "\n",
    "#NOWE DANE DLA ZESTAWU TESTOWEGO\n",
    "dzielkat3=[]\n",
    "dzielkat4=[]\n",
    "kawalerka2=[]\n",
    "#INDEKS 5 7\n",
    "for row in test_txtfeatures:\n",
    "    n_row5=poldel(row[0].lower())\n",
    "    n_row7=poldel(row[1].lower())\n",
    "    for keys in kat1:\n",
    "        match=0\n",
    "        if (re.search(keys,n_row7) or re.search(keys,n_row5)):\n",
    "            dzielkat3.append(1)\n",
    "            match=1\n",
    "            break;\n",
    "    if (match==0):\n",
    "            dzielkat3.append(0)\n",
    "    if (re.search(\"kawaler\",n_row7)):\n",
    "        kawalerka2.append(-1)\n",
    "    else:\n",
    "        kawalerka2.append(2)\n",
    "    match=0\n",
    "   \n",
    "    for keys in kat2:\n",
    "        if (re.search(keys,n_row7) or re.search(keys,n_row5)):\n",
    "            dzielkat4.append(1)\n",
    "            match=1\n",
    "            break;\n",
    "    if (match==0):\n",
    "            dzielkat4.append(0)\n",
    "    match=0\n",
    "      \n",
    "dzielkat3=(np.array(dzielkat3))\n",
    "dzielkat4=(np.array(dzielkat4))"
   ]
  },
  {
   "cell_type": "code",
   "execution_count": 19,
   "metadata": {
    "collapsed": false
   },
   "outputs": [],
   "source": [
    "\n",
    "nTXMx=np.insert(TXMx,6,dzielkat1,axis=1)\n",
    "nTXMx=np.insert(nTXMx,7,dzielkat2,axis=1)\n",
    "nTXMx=np.insert(nTXMx,8,kawalerka1,axis=1)\n",
    "\n",
    "nTXTx=np.insert(TXTx,6,dzielkat3,axis=1)\n",
    "nTXTx=np.insert(nTXTx,7,dzielkat4,axis=1)                 \n",
    "nTXTx=np.insert(nTXTx,8,kawalerka2,axis=1)                 \n"
   ]
  },
  {
   "cell_type": "code",
   "execution_count": 20,
   "metadata": {
    "collapsed": false
   },
   "outputs": [
    {
     "data": {
      "text/latex": [
       "$$\\Large \\theta = \\left[\\begin{array}{r}74.0938 \\\\ -9.8648 \\\\ 4.9370 \\\\ -2.6168 \\\\ -3.4971 \\\\ -4.4670 \\\\ 8.7438 \\\\ 11.4848 \\\\ 4.0493 \\\\ \\end{array}\\right]$$"
      ],
      "text/plain": [
       "<IPython.core.display.Math object>"
      ]
     },
     "metadata": {},
     "output_type": "display_data"
    },
    {
     "data": {
      "text/latex": [
       "$$\\Large J(\\theta) = 83.2744$$"
      ],
      "text/plain": [
       "<IPython.core.display.Math object>"
      ]
     },
     "metadata": {},
     "output_type": "display_data"
    }
   ],
   "source": [
    "thetaNorm = norm(nTXMx[:,[0,1,2,3,4,5,6,7,8]], yMx)\n",
    "display(Math(r'\\Large \\theta = ' + LatexMatrix(thetaNorm)))\n",
    "display(Math(r'\\Large J(\\theta) = %.4f' % JMx(thetaNorm, nTXMx[:,[0,1,2,3,4,5,6,7,8]], yMx)))\n",
    "\n",
    "result=hMx(thetaNorm,nTXTx)\n",
    "with open (\"expected.tsv\",\"w\") as f:\n",
    "    for i in range(len(result)):\n",
    "        print (result[i,0], file=f)"
   ]
  }
 ],
 "metadata": {
  "kernelspec": {
   "display_name": "Python 3",
   "language": "python",
   "name": "python3"
  },
  "language_info": {
   "codemirror_mode": {
    "name": "ipython",
    "version": 3
   },
   "file_extension": ".py",
   "mimetype": "text/x-python",
   "name": "python",
   "nbconvert_exporter": "python",
   "pygments_lexer": "ipython3",
   "version": "3.5.2"
  }
 },
 "nbformat": 4,
 "nbformat_minor": 0
}
